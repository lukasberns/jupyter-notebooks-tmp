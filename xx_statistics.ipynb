{
 "cells": [
  {
   "cell_type": "code",
   "execution_count": null,
   "metadata": {},
   "outputs": [],
   "source": [
    "import pandas as pd\n",
    "import numpy as np\n",
    "import matplotlib.pyplot as plt"
   ]
  },
  {
   "cell_type": "markdown",
   "metadata": {},
   "source": [
    "サイコロを100回振った時に1が出る確率は理想的なサイコロの場合1/6なので、$p=1/6$の二項分布で計算できます。\n",
    "`np.random.binomial(n,p)`で乱数を振ることができます\n",
    "https://numpy.org/doc/stable/reference/random/generated/numpy.random.binomial.html\n",
    "\n",
    "次のセルを何回か実行してみてください"
   ]
  },
  {
   "cell_type": "code",
   "execution_count": null,
   "metadata": {},
   "outputs": [],
   "source": [
    "n_throw = 100\n",
    "p_true = 1./6.\n",
    "np.random.binomial(n_throw, p_true)"
   ]
  },
  {
   "cell_type": "markdown",
   "metadata": {},
   "source": [
    "同じことを100万回繰り返してみましょう。`np.random.binomial`の3つめの引数が試行回数です"
   ]
  },
  {
   "cell_type": "code",
   "execution_count": null,
   "metadata": {},
   "outputs": [],
   "source": [
    "n_exp = 1000000\n",
    "n1 = np.random.binomial(n_throw, p_true, n_exp)"
   ]
  },
  {
   "cell_type": "code",
   "execution_count": null,
   "metadata": {},
   "outputs": [],
   "source": [
    "plt.hist(n1, bins=50, range=(0,50));"
   ]
  },
  {
   "cell_type": "markdown",
   "metadata": {},
   "source": [
    "26以上となる確率はどれくらいでしょうか？"
   ]
  },
  {
   "cell_type": "code",
   "execution_count": null,
   "metadata": {},
   "outputs": [],
   "source": [
    "np.sum(n1 >= 26) / n_exp"
   ]
  },
  {
   "cell_type": "markdown",
   "metadata": {},
   "source": [
    "例えば手元にあるサイコロで $n_1^\\mathrm{data} = 26$ の結果を得た場合、これ以上の値を得る確率が5%以上の$p_\\mathrm{true}$の範囲を探してみましょう"
   ]
  },
  {
   "cell_type": "code",
   "execution_count": null,
   "metadata": {},
   "outputs": [],
   "source": [
    "n1_data = 26\n",
    "\n",
    "p_true = 0.189\n",
    "n_exp = 1000000\n",
    "n1 = np.random.binomial(n_throw, p_true, n_exp)\n",
    "\n",
    "print(\"p_true = %g で n1 >= %d となる確率は %g\" % (p_true, n1_data, np.sum(n1 >= n1_data)/n_exp))"
   ]
  },
  {
   "cell_type": "markdown",
   "metadata": {},
   "source": [
    "今度は逆に実験結果以下の値を得る確率が5%以上の$p_\\mathrm{true}$の範囲を探してみましょう"
   ]
  },
  {
   "cell_type": "code",
   "execution_count": null,
   "metadata": {},
   "outputs": [],
   "source": [
    "p_true = 0.342\n",
    "n1 = np.random.binomial(n_throw, p_true, n_exp)\n",
    "print(\"p_true = %g で n1 <= %d となる確率は %g\" % (p_true, n1_data, np.sum(n1 <= n1_data)/n_exp))"
   ]
  },
  {
   "cell_type": "markdown",
   "metadata": {},
   "source": [
    "この範囲が被っている領域（ちょうど5%になる値の間の区間）がある意味$p_\\mathrm{true}$が信頼できる区間と言えるでしょう。意外と広いですよね。\n",
    "\n",
    "ちなみに大雑把な計算ができるのも便利です。全体のうち結果が得られた数が比較的少ない場合（例えば100回のうち26回）、大体少ない数の平方根くらいの誤差がつきます。ここでは$26\\pm\\sqrt{26} \\approx 26 \\pm 5 = \\{21,31\\}$となり、確率の信頼区間（上の両側それぞれ5%とは定義が変わりますが）は$0.21 \\sim 0.31$と考えられます。"
   ]
  },
  {
   "cell_type": "markdown",
   "metadata": {},
   "source": [
    "スライドで見せたような図を作りたい人はいくつかの$p_\\mathrm{true}$で試した結果を保存して図を作るか、あるいは\n",
    "二項分布の場合はわざわざ乱数を振らなくてもいろんな確率が分かっているので、そのあたりを調べてみると面白いと思います。"
   ]
  },
  {
   "cell_type": "code",
   "execution_count": null,
   "metadata": {},
   "outputs": [],
   "source": []
  }
 ],
 "metadata": {
  "kernelspec": {
   "display_name": "Python 3",
   "language": "python",
   "name": "python3"
  },
  "language_info": {
   "codemirror_mode": {
    "name": "ipython",
    "version": 3
   },
   "file_extension": ".py",
   "mimetype": "text/x-python",
   "name": "python",
   "nbconvert_exporter": "python",
   "pygments_lexer": "ipython3",
   "version": "3.7.6"
  }
 },
 "nbformat": 4,
 "nbformat_minor": 4
}
